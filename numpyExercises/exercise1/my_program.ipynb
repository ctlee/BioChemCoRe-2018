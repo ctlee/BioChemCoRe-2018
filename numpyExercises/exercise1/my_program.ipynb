{
 "cells": [
  {
   "cell_type": "markdown",
   "metadata": {},
   "source": [
    "## In Python, we could deal with scientific data as a list"
   ]
  },
  {
   "cell_type": "code",
   "execution_count": 22,
   "metadata": {},
   "outputs": [
    {
     "name": "stdout",
     "output_type": "stream",
     "text": [
      "The third element in my_list is 5\n"
     ]
    }
   ],
   "source": [
    "my_list = [1,3,5,7,9,2,4,6,8]\n",
    "print \"The third element in my_list is \" + str(my_list[2])"
   ]
  },
  {
   "cell_type": "markdown",
   "metadata": {},
   "source": [
    "## But for more complex operations over more complex data, this isn't super great.\n",
    "## Say that I ran three experiments with results as follows."
   ]
  },
  {
   "cell_type": "code",
   "execution_count": 23,
   "metadata": {
    "collapsed": true
   },
   "outputs": [],
   "source": [
    "experiment_results = [[2,5,3,6,8,5,7,9,7,5,3,3], \n",
    "                      [1,3,2,4,6,5,7,8,9,8,4,3],\n",
    "                      [4,3,5,4,6,8,7,11,9,7,4,1]]"
   ]
  },
  {
   "cell_type": "markdown",
   "metadata": {},
   "source": [
    "## Now I want to show the average of the sixth measurement in each experiment"
   ]
  },
  {
   "cell_type": "code",
   "execution_count": 24,
   "metadata": {},
   "outputs": [
    {
     "name": "stdout",
     "output_type": "stream",
     "text": [
      "The mean sixth experiment result is 6.0\n"
     ]
    }
   ],
   "source": [
    "sum_sixth_measurement = experiment_results[0][5] + experiment_results[1][5] + experiment_results[2][5]\n",
    "mean_sixth_measurement = float(sum_sixth_measurement)/3\n",
    "print(\"The mean sixth experiment result is \"+ str(mean_sixth_measurement))"
   ]
  },
  {
   "cell_type": "markdown",
   "metadata": {},
   "source": [
    "## And what about the mean value of the ninth?"
   ]
  },
  {
   "cell_type": "code",
   "execution_count": 25,
   "metadata": {},
   "outputs": [
    {
     "name": "stdout",
     "output_type": "stream",
     "text": [
      "The mean ninth experiment result is 8.33333333333\n"
     ]
    }
   ],
   "source": [
    "sum_ninth_measurement = experiment_results[0][8] + experiment_results[1][8] + experiment_results[2][8]\n",
    "mean_ninth_measurement = float(sum_ninth_measurement)/3\n",
    "print(\"The mean ninth experiment result is \"+ str(mean_ninth_measurement))"
   ]
  },
  {
   "cell_type": "markdown",
   "metadata": {},
   "source": [
    "## Gosh. I wish there was a better way to do this!\n",
    "\n",
    "## Introducing Numpy!\n",
    "\n",
    "## First, we use the \"import\" command to tell python that we want to load a new module"
   ]
  },
  {
   "cell_type": "code",
   "execution_count": 27,
   "metadata": {
    "collapsed": true
   },
   "outputs": [],
   "source": [
    "import numpy "
   ]
  },
  {
   "cell_type": "markdown",
   "metadata": {},
   "source": [
    "## Second, I want to make a numpy-style array, so I use \"numpy.array()\". The parentheses mean that it's a function - It does stuff, and it may require inputs (which would go inside the parentheses). The input for numpy.array is a list of numbers that you want to turn into an array. \n",
    "\n",
    "## Whenever I want to use something from the imported module, I have to write its name (numpy), then put a dot (.), then say the name of the thing in the module I want to use.\n"
   ]
  },
  {
   "cell_type": "code",
   "execution_count": 28,
   "metadata": {},
   "outputs": [],
   "source": [
    "np_expt_res = numpy.array(experiment_results)"
   ]
  },
  {
   "cell_type": "markdown",
   "metadata": {},
   "source": [
    "## I can pick elements from np_expt_res in a similar way to normal lists, except this time I can give two indices, because this is technically a 3x12 matrix\n",
    "## To get the sixth result (remember, \"sixth\" means a python index of [5]) of the first experiment ([0]), I can just ask for element [0,5] of my numpy array."
   ]
  },
  {
   "cell_type": "code",
   "execution_count": 29,
   "metadata": {},
   "outputs": [
    {
     "name": "stdout",
     "output_type": "stream",
     "text": [
      "The sixth result of the first experiment is 5\n"
     ]
    }
   ],
   "source": [
    "print(\"The sixth result of the first experiment is \"+ str(np_expt_res[0,5]))"
   ]
  },
  {
   "cell_type": "markdown",
   "metadata": {},
   "source": [
    "## I can also take \"slices\" of the numpy list in different directions. To do this, I leave one of the indices as a \":\" instead of providing a value."
   ]
  },
  {
   "cell_type": "code",
   "execution_count": 30,
   "metadata": {},
   "outputs": [
    {
     "name": "stdout",
     "output_type": "stream",
     "text": [
      "The sixth result of each experiment is [5 5 8]\n",
      "The mean of the sixth results is 6.0\n"
     ]
    }
   ],
   "source": [
    "print(\"The sixth result of each experiment is \"+ str(np_expt_res[:,5]))\n",
    "sixth_result_mean = numpy.mean(np_expt_res[:,5])\n",
    "print(\"The mean of the sixth results is \" + str(sixth_result_mean))\n"
   ]
  },
  {
   "cell_type": "markdown",
   "metadata": {},
   "source": [
    "## EXERCISE: The last command returned the 1st, 3rd, 5th, etc... item from the list. Now I want the 2nd, 4th, 6th, etc. Add a print statement here to do that."
   ]
  },
  {
   "cell_type": "code",
   "execution_count": null,
   "metadata": {
    "collapsed": true
   },
   "outputs": [],
   "source": []
  }
 ],
 "metadata": {
  "kernelspec": {
   "display_name": "Python 2",
   "language": "python",
   "name": "python2"
  },
  "language_info": {
   "codemirror_mode": {
    "name": "ipython",
    "version": 2
   },
   "file_extension": ".py",
   "mimetype": "text/x-python",
   "name": "python",
   "nbconvert_exporter": "python",
   "pygments_lexer": "ipython2",
   "version": "2.7.13"
  }
 },
 "nbformat": 4,
 "nbformat_minor": 2
}
