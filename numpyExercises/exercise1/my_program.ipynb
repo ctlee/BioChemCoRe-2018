{
 "cells": [
  {
   "cell_type": "markdown",
   "metadata": {},
   "source": [
    "# Exercise 1"
   ]
  },
  {
   "cell_type": "markdown",
   "metadata": {},
   "source": [
    "### In Python, we could deal with scientific data as a list"
   ]
  },
  {
   "cell_type": "code",
   "execution_count": null,
   "metadata": {},
   "outputs": [],
   "source": [
    "my_list = [1,3,5,7,9,2,4,6,8]\n",
    "print(\"The third element in my_list is \" + str(my_list[2]))"
   ]
  },
  {
   "cell_type": "markdown",
   "metadata": {},
   "source": [
    "### But for more complex operations over more complex data, this isn't super great.\n",
    "### Say that I ran three experiments with results as follows."
   ]
  },
  {
   "cell_type": "code",
   "execution_count": null,
   "metadata": {
    "collapsed": true
   },
   "outputs": [],
   "source": [
    "experiment_results = [[2,5,3,6,8,5,7,9,7,5,3,3], \n",
    "                      [1,3,2,4,6,5,7,8,9,8,4,3],\n",
    "                      [4,3,5,4,6,8,7,11,9,7,4,1]]"
   ]
  },
  {
   "cell_type": "markdown",
   "metadata": {},
   "source": [
    "### Now I want to show the average of the sixth measurement in each experiment"
   ]
  },
  {
   "cell_type": "code",
   "execution_count": null,
   "metadata": {},
   "outputs": [],
   "source": [
    "sum_sixth_measurement = experiment_results[0][5] + experiment_results[1][5] + experiment_results[2][5]\n",
    "mean_sixth_measurement = float(sum_sixth_measurement)/3\n",
    "print(\"The mean sixth experiment result is \"+ str(mean_sixth_measurement))"
   ]
  },
  {
   "cell_type": "markdown",
   "metadata": {},
   "source": [
    "### And what about the mean value of the ninth?"
   ]
  },
  {
   "cell_type": "code",
   "execution_count": null,
   "metadata": {},
   "outputs": [],
   "source": [
    "sum_ninth_measurement = experiment_results[0][8] + experiment_results[1][8] + experiment_results[2][8]\n",
    "mean_ninth_measurement = float(sum_ninth_measurement)/3\n",
    "print(\"The mean ninth experiment result is \"+ str(mean_ninth_measurement))"
   ]
  },
  {
   "cell_type": "markdown",
   "metadata": {},
   "source": [
    "### Gosh. I wish there was a better way to do this!\n",
    "\n",
    "### Introducing Numpy!\n",
    "\n",
    "### First, we use the \"import\" command to tell python that we want to load a new module"
   ]
  },
  {
   "cell_type": "code",
   "execution_count": null,
   "metadata": {
    "collapsed": true
   },
   "outputs": [],
   "source": [
    "import numpy "
   ]
  },
  {
   "cell_type": "markdown",
   "metadata": {},
   "source": [
    "### Second, I want to make a numpy-style array, so I use \"numpy.array()\". The input for numpy.array is a list of numbers that you want to turn into an array. \n",
    "\n",
    "### Printing the thing will show you what it looks like\n"
   ]
  },
  {
   "cell_type": "code",
   "execution_count": null,
   "metadata": {},
   "outputs": [],
   "source": [
    "np_expt_res = numpy.array(experiment_results)\n",
    "print(np_expt_res)"
   ]
  },
  {
   "cell_type": "markdown",
   "metadata": {},
   "source": [
    "### I can pick elements from np_expt_res in a similar way to normal lists, except this time I can give two indices, because this is technically a 3x12 matrix\n",
    "### To get the sixth result (remember, \"sixth\" means a python index of [5]) of the first experiment ([0]), I can just ask for element [0,5] of my numpy array."
   ]
  },
  {
   "cell_type": "code",
   "execution_count": null,
   "metadata": {},
   "outputs": [],
   "source": [
    "print(\"The sixth result of the first experiment is \"+ str(np_expt_res[0,5]))"
   ]
  },
  {
   "cell_type": "markdown",
   "metadata": {},
   "source": [
    "### I can also take \"slices\" of the numpy list in different directions. To do this, I leave one of the indices as a \":\" instead of providing a value."
   ]
  },
  {
   "cell_type": "code",
   "execution_count": null,
   "metadata": {},
   "outputs": [],
   "source": [
    "print(\"The sixth result of each experiment is \"+ str(np_expt_res[:,5]))\n",
    "sixth_result_mean = numpy.mean(np_expt_res[:,5])\n",
    "print(\"The mean of the sixth results is \" + str(sixth_result_mean))\n",
    "every_other_num = np_expt_res[0,::2] ##the zero calls the FIRST experiment (the first row in np_expt_res)\n",
    "print(\"Every other result in the first experiment is \" +str(every_other_num))"
   ]
  },
  {
   "cell_type": "markdown",
   "metadata": {},
   "source": [
    "### EXERCISE: The last command returned the 1st, 3rd, 5th, etc... item from the list. Now I want the 2nd, 4th, 6th, etc. Add a print statement here to do that."
   ]
  },
  {
   "cell_type": "code",
   "execution_count": null,
   "metadata": {
    "collapsed": true
   },
   "outputs": [],
   "source": [
    "every_other_other = '?'\n",
    "#google slicing in numpy!\n",
    "#print every other OTHER!\n",
    "#write code here"
   ]
  },
  {
   "cell_type": "markdown",
   "metadata": {},
   "source": [
    "# Exercise 2"
   ]
  },
  {
   "cell_type": "markdown",
   "metadata": {},
   "source": [
    "### Here I'm using python's built-in list to hold a 3x3 matrix of numbers"
   ]
  },
  {
   "cell_type": "code",
   "execution_count": null,
   "metadata": {},
   "outputs": [],
   "source": [
    "my_matrix = [[1,2,3],\n",
    "             [4,5,6],\n",
    "             [7,8,9]]\n",
    "print(\"my_matrix is \"+str(my_matrix))\n",
    "print(\"The first row of my_matrix is \"+ str(my_matrix[0]))\n",
    "print(\"The top left item in my_matrix is \"+ str(my_matrix[0][0]))\n",
    "print(\"the first column of my_matrix is \"+ str([str(my_matrix[0][0])+\" \"+str(my_matrix[1][0])+\" \"+str(my_matrix[2][0])]))"
   ]
  },
  {
   "cell_type": "markdown",
   "metadata": {},
   "source": [
    "### EXERCISE: Add code here to add each number in the first row of my_matrix to the numbers below it (in the second row) and print the new row for the user. That is, this should return [5, 7, 9]. This will be pretty ugly."
   ]
  },
  {
   "cell_type": "code",
   "execution_count": null,
   "metadata": {
    "collapsed": true
   },
   "outputs": [],
   "source": [
    "#code here"
   ]
  },
  {
   "cell_type": "markdown",
   "metadata": {},
   "source": [
    "### Now I'll do the same thing as above, but using a numpy array."
   ]
  },
  {
   "cell_type": "code",
   "execution_count": null,
   "metadata": {},
   "outputs": [],
   "source": [
    "my_np_matrix = numpy.array(my_matrix)\n",
    "print(\"my_np_matrix is\")\n",
    "print(my_np_matrix)\n",
    "print(\"The first row of my_np_matrix is \"+ str(my_np_matrix[0]))\n",
    "print(\"The top left item in my_np_matrix is \"+ str(my_np_matrix[0,0]))\n",
    "print(\"the first column of my_np_matrix is \"+ str(my_np_matrix[:,0]))"
   ]
  },
  {
   "cell_type": "markdown",
   "metadata": {},
   "source": [
    "### omg that was, like, so easy\n",
    "### EXERCISE: Same as previous, but with numpy: Add code here to add the numbers in the first row of my_np_matrix to the numbers in the second row and print them for the user. This should be a lot easier using a numpy array."
   ]
  },
  {
   "cell_type": "code",
   "execution_count": null,
   "metadata": {
    "collapsed": true
   },
   "outputs": [],
   "source": [
    "#code code code"
   ]
  },
  {
   "cell_type": "markdown",
   "metadata": {},
   "source": [
    "### EXERCISE: Add code to print the top left 2x2 matrix from my_np_matrix. Since the original matrix is "
   ]
  },
  {
   "cell_type": "markdown",
   "metadata": {},
   "source": [
    "    [[1 2 3]\n",
    "    [4 5 6]]"
   ]
  },
  {
   "cell_type": "markdown",
   "metadata": {},
   "source": [
    " ### This should print:"
   ]
  },
  {
   "cell_type": "markdown",
   "metadata": {},
   "source": [
    "    [[1 2]\n",
    "    [4 5]]"
   ]
  },
  {
   "cell_type": "code",
   "execution_count": null,
   "metadata": {
    "collapsed": true
   },
   "outputs": [],
   "source": [
    "#your codey code here"
   ]
  },
  {
   "cell_type": "markdown",
   "metadata": {},
   "source": [
    "### In numpy, I can also get a \"mask\" of positions in the matrix I like. A mask is a matrix with the same shape as the original, but wth either True or False in each position. I could say \"which numbers in this matrix are divisible by 3?\", and get a matrix back where the positions that are divisible by 3 are set to True, and those that aren't are set to False.\n",
    "### (The \"%\" operation will return the remainder of a division. For example 5%3 will give the remainder of 5/3, or 2). The operation is called a \"modulus\", or \"mod\" for short. \n"
   ]
  },
  {
   "cell_type": "code",
   "execution_count": null,
   "metadata": {
    "collapsed": true
   },
   "outputs": [],
   "source": [
    "my_truth_matrix = (my_np_matrix % 3 == 0)"
   ]
  },
  {
   "cell_type": "markdown",
   "metadata": {},
   "source": [
    "### So now my_truth_matrix contains \"True\" and \"False\" entries corresponding to whether each element in my_np_matrix divides evenly by 3."
   ]
  },
  {
   "cell_type": "code",
   "execution_count": null,
   "metadata": {},
   "outputs": [],
   "source": [
    "print('The items in my_np_matrix that divide evenly by 3 are in these positions:')\n",
    "print(my_truth_matrix)"
   ]
  },
  {
   "cell_type": "markdown",
   "metadata": {},
   "source": [
    "### I can use this truth matrix as a different type of index for selecting parts of the original matrix"
   ]
  },
  {
   "cell_type": "code",
   "execution_count": null,
   "metadata": {},
   "outputs": [],
   "source": [
    "print('Their values are '+ str(my_np_matrix[my_truth_matrix])) #CHECK IT OUT\n",
    "## SO COOL\n",
    "# MUCH COMPUTER \n",
    "# WOW"
   ]
  },
  {
   "cell_type": "markdown",
   "metadata": {},
   "source": [
    "### EXERCISE: Add code here to do the same as above for all the items which are greater than 5"
   ]
  },
  {
   "cell_type": "code",
   "execution_count": null,
   "metadata": {
    "collapsed": true
   },
   "outputs": [],
   "source": [
    "##CODE CODE CODE"
   ]
  },
  {
   "cell_type": "markdown",
   "metadata": {},
   "source": [
    "# Exercise 3"
   ]
  },
  {
   "cell_type": "markdown",
   "metadata": {},
   "source": [
    "### Here I'm loading a file containing average attendance and ticket prices for different NBA teams (the team names aren't listed).\n",
    "\n",
    "#### Note: Here we use some function called \"numpy.genfromtxt()\". Don't think that you need to know absolutely all of the vague little commands in numpy in order to use it - I only know about these commands because I use them very frequently. Same with the pyplot module that I use later in this example. I use both numpy and pyplot extensively in my work but have probably used less than 5% of any of their functions. \n",
    "\n",
    "#### Another note: When you approach data processing tasks, you should open the file in a text editor to see what the formatting looks like. Look for patterns like columns in simple cases or certain words or phrases that appear near values of interest in more complex data extraction work."
   ]
  },
  {
   "cell_type": "code",
   "execution_count": null,
   "metadata": {
    "collapsed": true
   },
   "outputs": [],
   "source": [
    "pathToCSV = '/Users/abigaildommer/Desktop/BioChemCoRe-2018/numpyExercises/exercise3/NBA_attendance_price_simple.csv'\n",
    "my_data = numpy.genfromtxt(pathToCSV, delimiter = ',')"
   ]
  },
  {
   "cell_type": "markdown",
   "metadata": {},
   "source": [
    "### I'll put in a nice little message for the user to understand what they're seeing"
   ]
  },
  {
   "cell_type": "code",
   "execution_count": null,
   "metadata": {},
   "outputs": [],
   "source": [
    "print(\"Average Attendance |  Ticket Price\")\n",
    "print(my_data)\n",
    "##sooooo cute"
   ]
  },
  {
   "cell_type": "markdown",
   "metadata": {},
   "source": [
    "### EXERCISE: Add code here to print out the average revenue for each team (the ticket price times the attendance). \n",
    "### The first number should be 280699.58 (from 13993 * 20.06)"
   ]
  },
  {
   "cell_type": "code",
   "execution_count": null,
   "metadata": {
    "collapsed": true
   },
   "outputs": [],
   "source": [
    "###codecodecodecodecode"
   ]
  },
  {
   "cell_type": "markdown",
   "metadata": {},
   "source": [
    "### Now I'll import a simple plotting module called \"matplotlib.pyplot\" to help me show some data"
   ]
  },
  {
   "cell_type": "code",
   "execution_count": null,
   "metadata": {
    "collapsed": true
   },
   "outputs": [],
   "source": [
    "import matplotlib.pyplot as plt ##importing\n",
    "%matplotlib inline \n",
    "##this line ^^ makes generated plots appear in jupyter notebooks so you can see what you're plotting"
   ]
  },
  {
   "cell_type": "markdown",
   "metadata": {},
   "source": [
    "### I want to create a scatter plot of ticket price vs. attendance. The pylab.scatter command takes two lists of numbers - The first corresponds to the x values of the points, the second corresponds to the y values. "
   ]
  },
  {
   "cell_type": "code",
   "execution_count": null,
   "metadata": {},
   "outputs": [],
   "source": [
    "fig = plt.figure()\n",
    "ax = fig.add_subplot(111)\n",
    "plt.scatter(my_data[:,0], my_data[:,1])\n",
    "# Be sure you understand what my_data[:,0] and my_data[:,1] are! \n",
    "##If you don't, you should add code to print out their values."
   ]
  },
  {
   "cell_type": "markdown",
   "metadata": {},
   "source": [
    "### We're missing axis labels YO\n",
    "### you do the thing:"
   ]
  },
  {
   "cell_type": "markdown",
   "metadata": {},
   "source": [
    "    fig = plt.figure()\n",
    "    ax = fig.add_subplot(111)\n",
    "    plt.scatter(my_data[:,0], my_data[:,1])\n",
    "    ax.set_xlabel('thing')\n",
    "    ax.set_ylabel('other thing')"
   ]
  },
  {
   "cell_type": "code",
   "execution_count": null,
   "metadata": {
    "collapsed": true
   },
   "outputs": [],
   "source": [
    "#do the thing here"
   ]
  },
  {
   "cell_type": "markdown",
   "metadata": {},
   "source": [
    "### EXERCISE: Add code here to make a scatter plot of the average attendance vs. the total revenue that you calculated above. "
   ]
  },
  {
   "cell_type": "code",
   "execution_count": null,
   "metadata": {
    "collapsed": true
   },
   "outputs": [],
   "source": []
  }
 ],
 "metadata": {
  "kernelspec": {
   "display_name": "Python 3",
   "language": "python",
   "name": "python3"
  },
  "language_info": {
   "codemirror_mode": {
    "name": "ipython",
    "version": 3
   },
   "file_extension": ".py",
   "mimetype": "text/x-python",
   "name": "python",
   "nbconvert_exporter": "python",
   "pygments_lexer": "ipython3",
   "version": "3.6.1"
  }
 },
 "nbformat": 4,
 "nbformat_minor": 2
}
