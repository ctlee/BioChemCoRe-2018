{
 "cells": [
  {
   "cell_type": "code",
   "execution_count": null,
   "metadata": {
    "collapsed": true
   },
   "outputs": [],
   "source": [
    "import mdtraj as md\n",
    "import numpy as np\n",
    "import matplotlib.pyplot as plt"
   ]
  },
  {
   "cell_type": "markdown",
   "metadata": {},
   "source": [
    "## We load the trajectory using a topology file (in this case a pdb) and a trajectory file (the dcd)"
   ]
  },
  {
   "cell_type": "code",
   "execution_count": null,
   "metadata": {
    "collapsed": true
   },
   "outputs": [],
   "source": [
    "traj = md.load('exampleTraj.dcd', top='exampleProtein.pdb')"
   ]
  },
  {
   "cell_type": "markdown",
   "metadata": {},
   "source": [
    "## And get the number of frames in our trajectory"
   ]
  },
  {
   "cell_type": "code",
   "execution_count": null,
   "metadata": {
    "collapsed": true
   },
   "outputs": [],
   "source": [
    "numFrames = len(traj)"
   ]
  },
  {
   "cell_type": "markdown",
   "metadata": {},
   "source": [
    "## Prepare a list to contain the atom numbers of each first shell water's oxygen in each frame"
   ]
  },
  {
   "cell_type": "code",
   "execution_count": null,
   "metadata": {
    "collapsed": true
   },
   "outputs": [],
   "source": [
    "firstShells = []\n",
    "\n",
    "proteinSelection = traj.topology.select('protein')\n",
    "waterSelection = traj.topology.select('water and name O')"
   ]
  },
  {
   "cell_type": "markdown",
   "metadata": {},
   "source": [
    "## Use an MDTraj function to run through the trajectory and identify all the water oxygens within 2 angstroms of the protein."
   ]
  },
  {
   "cell_type": "code",
   "execution_count": null,
   "metadata": {
    "collapsed": true
   },
   "outputs": [],
   "source": [
    "watersNearProtein = md.compute_neighbors(traj, \n",
    "                                         0.2, \n",
    "                                         proteinSelection,\n",
    "                                         haystack_indices=waterSelection)"
   ]
  },
  {
   "cell_type": "markdown",
   "metadata": {},
   "source": [
    "## For each frame that was analyzed, put the water oxygen IDs into a set."
   ]
  },
  {
   "cell_type": "code",
   "execution_count": null,
   "metadata": {
    "collapsed": true
   },
   "outputs": [],
   "source": [
    "watersNearProtein = [set(i) for i in watersNearProtein]"
   ]
  },
  {
   "cell_type": "markdown",
   "metadata": {},
   "source": [
    "## Walk through the waters near the protein in each frame (called the \"first hydration shell\"), and see how many of them are close in other frames. Make a (numFrames x numFrames) matrix with the number of first-shell waters that different frames have in common"
   ]
  },
  {
   "cell_type": "code",
   "execution_count": null,
   "metadata": {
    "collapsed": true
   },
   "outputs": [],
   "source": [
    "firstOverlapMat = np.zeros((numFrames, numFrames))\n",
    "for i in range(numFrames):\n",
    "    for j in range(i, numFrames):\n",
    "        overlap = len(watersNearProtein[i] & watersNearProtein[j])\n",
    "        firstOverlapMat[i,j] = overlap\n",
    "        firstOverlapMat[j,i] = overlap"
   ]
  },
  {
   "cell_type": "markdown",
   "metadata": {},
   "source": [
    "## Use PyPlot to show what the first shell overlap matrix looks like"
   ]
  },
  {
   "cell_type": "code",
   "execution_count": null,
   "metadata": {
    "collapsed": true
   },
   "outputs": [],
   "source": [
    "plt.imshow(firstOverlapMat)\n",
    "plt.colorbar()\n",
    "plt.show()"
   ]
  },
  {
   "cell_type": "markdown",
   "metadata": {},
   "source": [
    "## Prepare a numpy array to hold the frame-to-frame similarity values"
   ]
  },
  {
   "cell_type": "code",
   "execution_count": null,
   "metadata": {
    "collapsed": true
   },
   "outputs": [],
   "source": [
    "firstOverlapMat = np.zeros((numFrames, numFrames))\n",
    "nLeftList = []\n",
    "nStayedList = []"
   ]
  },
  {
   "cell_type": "markdown",
   "metadata": {},
   "source": [
    "## Now we go through each frame and compare it to the one right after it. We will use sets to do a handy task: Subtraction of two sets gives us a new set containing the items that are in one set and not another (difference). We will also use the \"&\" (intersection) operator, which returns a new set containing the items that both sets have in common. By counting how many items are in the difference and intersection, between every frame and the frame after it, we can count how many waters stay and leave each step."
   ]
  },
  {
   "cell_type": "code",
   "execution_count": null,
   "metadata": {
    "collapsed": true
   },
   "outputs": [],
   "source": [
    "for frameIndex in range(numFrames-1):\n",
    "\n",
    "    watersThatLeft = watersNearProtein[frameIndex] - watersNearProtein[frameIndex+1]\n",
    "    # And the len() of a set is the number of items in it\n",
    "    numWatersThatLeft = len(watersThatLeft)\n",
    "    # The & operator returns items which appear in both \n",
    "    watersThatStayed = watersNearProtein[frameIndex] & watersNearProtein[frameIndex+1]\n",
    "    numWatersThatStayed = len(watersThatStayed)\n",
    "    \n",
    "    print '%i waters left the first shell this frame, and %i stayed' %(numWatersThatLeft,numWatersThatStayed)\n",
    "\n",
    "    # Store the results in a list\n",
    "    nLeftList.append(numWatersThatLeft)\n",
    "    nStayedList.append(numWatersThatStayed)"
   ]
  },
  {
   "cell_type": "markdown",
   "metadata": {},
   "source": [
    "## And now we can use the pylab module to plot them"
   ]
  },
  {
   "cell_type": "code",
   "execution_count": null,
   "metadata": {
    "collapsed": true
   },
   "outputs": [],
   "source": [
    "plt.plot(nLeftList,label='Number of waters that left')\n",
    "plt.plot(nStayedList,label='Number of waters that stayed')\n",
    "plt.legend()\n",
    "plt.show()\n"
   ]
  }
 ],
 "metadata": {
  "kernelspec": {
   "display_name": "Python 2",
   "language": "python",
   "name": "python2"
  },
  "language_info": {
   "codemirror_mode": {
    "name": "ipython",
    "version": 2
   },
   "file_extension": ".py",
   "mimetype": "text/x-python",
   "name": "python",
   "nbconvert_exporter": "python",
   "pygments_lexer": "ipython2",
   "version": "2.7.12"
  }
 },
 "nbformat": 4,
 "nbformat_minor": 2
}
