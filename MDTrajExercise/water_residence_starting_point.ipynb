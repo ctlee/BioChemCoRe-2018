{
 "cells": [
  {
   "cell_type": "markdown",
   "metadata": {},
   "source": [
    "## Before you start this tutorial, get familiar with what an MD simulation looks like. You can look at the trajectory in this folder using the following command:\n",
    "### Note: When you put a \"!\" at the beginning of a line in a jupyter notebook, it runs as if it was a BASH command. "
   ]
  },
  {
   "cell_type": "code",
   "execution_count": null,
   "metadata": {},
   "outputs": [],
   "source": [
    "! vmd exampleProtein.pdb exampleTraj.dcd "
   ]
  },
  {
   "cell_type": "markdown",
   "metadata": {},
   "source": [
    "### Note that, in VMD, we have to specify two files -- One containing the \"topology\" of the system (in this case a PDB file), which contains (at least) a listing of what atoms are present, what elements those atoms are, and how they are bonded. After that, we provide a \"trajectory\" file, or a compressed file containing X,Y,Z information about where each atom is in each simulation snapshot.\n",
    "\n",
    "#### In addition to the elements and bonds, a PDB file contains a set of coordinates. This information goes beyond what is strictly expected in a \"topology\". If you want to view a stationary protein, a PDB file will suffice. Later you will learn about protein files like PRMTOPs that contain atoms and bonds, but no coordinates.\n",
    "\n"
   ]
  },
  {
   "cell_type": "code",
   "execution_count": null,
   "metadata": {},
   "outputs": [],
   "source": [
    "import mdtraj as md\n",
    "import numpy as np\n",
    "import matplotlib.pyplot as plt"
   ]
  },
  {
   "cell_type": "markdown",
   "metadata": {},
   "source": [
    "### We load the trajectory using a topology file (in this case a pdb) and a trajectory file (the dcd)\n",
    "\n",
    "### By the way, how did I know that mdtraj has a function called \"load()\"? I knew because I googled its documentation. I usually have documentation webpages open while I use different packages in programming.\n",
    "### MDTraj's documentation can be found here: http://mdtraj.org/1.9.0/ . You should keep it open as you work on this notebook."
   ]
  },
  {
   "cell_type": "code",
   "execution_count": null,
   "metadata": {},
   "outputs": [],
   "source": [
    "traj = md.load('exampleTraj.dcd', top='exampleProtein.pdb')"
   ]
  },
  {
   "cell_type": "markdown",
   "metadata": {},
   "source": [
    "### And get the number of frames in our trajectory"
   ]
  },
  {
   "cell_type": "code",
   "execution_count": null,
   "metadata": {},
   "outputs": [],
   "source": [
    "numFrames = len(traj)\n",
    "print(numFrames)"
   ]
  },
  {
   "cell_type": "markdown",
   "metadata": {},
   "source": [
    "### Let's look at the atomic coordinates in our trajectory"
   ]
  },
  {
   "cell_type": "code",
   "execution_count": null,
   "metadata": {},
   "outputs": [],
   "source": [
    "print(traj.xyz)"
   ]
  },
  {
   "cell_type": "markdown",
   "metadata": {},
   "source": [
    "### Oof. That's a lot of numbers. Just how many numbers is it?"
   ]
  },
  {
   "cell_type": "code",
   "execution_count": null,
   "metadata": {
    "collapsed": true
   },
   "outputs": [],
   "source": [
    "print(traj.xyz.shape)"
   ]
  },
  {
   "cell_type": "markdown",
   "metadata": {},
   "source": [
    "### Ah. This isn't so bad. It's 59,882 atoms, each with 3 coordinates (x, y, and z), and 51 simulation snapshots\n",
    "### As an example, let's do something silly and move all the waters 100 Angstroms in the x direction.\n",
    "### First we need to figure out which atoms are in waters."
   ]
  },
  {
   "cell_type": "code",
   "execution_count": null,
   "metadata": {},
   "outputs": [],
   "source": [
    "water_indices  = traj.topology.select('water')\n",
    "print(waters.shape)"
   ]
  },
  {
   "cell_type": "markdown",
   "metadata": {},
   "source": [
    "### This seems about right. 53,998 of our 59,882 atoms are waters.\n",
    "### Remember numpy? It turns out that traj.xyz is a numpy array. So, to translate all the water molecules 100 angstroms (10 nanometers), we can just write:\n",
    "#### (Note: Above we saw the shape is (51,59882,3). This means that the first index is the frame number, the second is the atom number, and the third is the spatial coordinate.)\n",
    "#### (Also note: Jeff talks about distances in Angstroms, but MDTraj uses nanometers. 10 Angstroms = 1 nm)"
   ]
  },
  {
   "cell_type": "code",
   "execution_count": null,
   "metadata": {},
   "outputs": [],
   "source": [
    "traj.xyz[:,water_indices,0] += 10"
   ]
  },
  {
   "cell_type": "markdown",
   "metadata": {},
   "source": [
    "### I have no idea if this is right at all. Let's save out the first frame (traj[0]) as a pdb."
   ]
  },
  {
   "cell_type": "code",
   "execution_count": null,
   "metadata": {
    "collapsed": true
   },
   "outputs": [],
   "source": [
    "traj[0].save_pdb('waters_translated_100.pdb')"
   ]
  },
  {
   "cell_type": "code",
   "execution_count": null,
   "metadata": {},
   "outputs": [],
   "source": [
    "! vmd waters_translated_100.pdb"
   ]
  },
  {
   "cell_type": "markdown",
   "metadata": {},
   "source": [
    "### How easy was that!?\n",
    "## Ok. So we can do simple stuff with the water. Let's go further.\n",
    "###  We know that waters play a very important role in protein function, because when proteins are put in environments other than water (ethanol, benzene, air, water that's too salty, or even just *heavy water*), they behave differently. Waters in the \"bulk solvent\", far away from the protein, generally just float (\"diffuse\") around, occasionally hydrogen bonding with each other, but never for long (unless it's cold. Then you get ice!). Waters around proteins, however, can hydrogen bond and get trapped for a long time. Sometimes these waters are actually necessary for the protein to function (\"structural waters\"). Frequently, binding sites will contain structural waters, and drug molecules can hydrogen bond to them and become more potent.\n",
    "### One fairly advanced analysis that we can perform is a \"water residence\" analysis. This asks which waters stick around the protein for a while. For now, I just want to count how many waters stay near the protein between consecutive snapshots.\n",
    "### First, we'll reload the protein, since we messed up that last structure by moving the waters around:"
   ]
  },
  {
   "cell_type": "code",
   "execution_count": null,
   "metadata": {
    "collapsed": true
   },
   "outputs": [],
   "source": [
    "traj = md.load('exampleTraj.dcd', top='exampleProtein.pdb')"
   ]
  },
  {
   "cell_type": "markdown",
   "metadata": {},
   "source": [
    "### Second, we'll prepare a list to contain the atom numbers of each first shell water's oxygen in each snapshot"
   ]
  },
  {
   "cell_type": "code",
   "execution_count": null,
   "metadata": {
    "collapsed": true
   },
   "outputs": [],
   "source": [
    "firstShells = []\n",
    "\n",
    "protein_indices = traj.topology.select('protein')\n",
    "#waterSelection = traj.topology.select('water and name O')"
   ]
  },
  {
   "cell_type": "markdown",
   "metadata": {},
   "source": [
    "### Then we'll use an MDTraj function to run through the trajectory and identify all the water oxygens within 2 angstroms of the protein. (Read up on this function I used: http://mdtraj.org/1.9.0/api/generated/mdtraj.compute_neighbors.html)"
   ]
  },
  {
   "cell_type": "code",
   "execution_count": null,
   "metadata": {
    "collapsed": true
   },
   "outputs": [],
   "source": [
    "watersNearProtein = md.compute_neighbors(traj, \n",
    "                                         0.2, \n",
    "                                         protein_indices,\n",
    "                                         haystack_indices=water_indices)"
   ]
  },
  {
   "cell_type": "markdown",
   "metadata": {},
   "source": [
    "### For each frame that was analyzed, put the water oxygen IDs into a set. I'll show you why sets are useful in a second."
   ]
  },
  {
   "cell_type": "code",
   "execution_count": null,
   "metadata": {
    "collapsed": true
   },
   "outputs": [],
   "source": [
    "watersNearProtein = [set(i) for i in watersNearProtein]"
   ]
  },
  {
   "cell_type": "markdown",
   "metadata": {},
   "source": [
    "### Walk through the waters near the protein in each frame (called the \"first hydration shell\"), and see how many of them are close in other frames. Make a (numFrames x numFrames) matrix with the number of first-shell waters that different frames have in common\n",
    "### We will use the \"&\" (intersection) operator on two sets, which returns a new set containing the items that both sets have in common. Just like how two integers can be acted on with the \"+\", \"-\", \"\\*\", and \"/\" operators, sets have their own special series of operators."
   ]
  },
  {
   "cell_type": "code",
   "execution_count": null,
   "metadata": {
    "collapsed": true
   },
   "outputs": [],
   "source": [
    "firstOverlapMat = np.zeros((numFrames, numFrames))\n",
    "for i in range(numFrames):\n",
    "    for j in range(i, numFrames):\n",
    "        overlap = len(watersNearProtein[i] & watersNearProtein[j])\n",
    "        firstOverlapMat[i,j] = overlap\n",
    "        firstOverlapMat[j,i] = overlap"
   ]
  },
  {
   "cell_type": "markdown",
   "metadata": {},
   "source": [
    "### Use PyPlot to show what the first shell overlap matrix looks like"
   ]
  },
  {
   "cell_type": "code",
   "execution_count": null,
   "metadata": {},
   "outputs": [],
   "source": [
    "plt.imshow(firstOverlapMat)\n",
    "plt.colorbar()\n",
    "plt.show()"
   ]
  },
  {
   "cell_type": "markdown",
   "metadata": {},
   "source": [
    "### What does this mean? What are the yellow points and the purple? Why is there a diagonal yellow line?"
   ]
  },
  {
   "cell_type": "code",
   "execution_count": null,
   "metadata": {
    "collapsed": true
   },
   "outputs": [],
   "source": [
    "## Write down your explanation here"
   ]
  },
  {
   "cell_type": "markdown",
   "metadata": {},
   "source": [
    "### Prepare a numpy array to hold the frame-to-frame similarity values"
   ]
  },
  {
   "cell_type": "code",
   "execution_count": null,
   "metadata": {
    "collapsed": true
   },
   "outputs": [],
   "source": [
    "firstOverlapMat = np.zeros((numFrames, numFrames))\n",
    "nLeftList = []\n",
    "nStayedList = []"
   ]
  },
  {
   "cell_type": "markdown",
   "metadata": {},
   "source": [
    "### Now we go through each frame and compare it to the one right after it. We will use sets to do a handy task: Subtraction of two sets gives us a new set containing the items that are in one set and not another (difference). By counting how many items are in the difference and intersection, between every frame and the frame after it, we can count how many waters stay and leave each step."
   ]
  },
  {
   "cell_type": "code",
   "execution_count": null,
   "metadata": {
    "collapsed": true
   },
   "outputs": [],
   "source": [
    "for frameIndex in range(numFrames-1):\n",
    "\n",
    "    watersThatLeft = watersNearProtein[frameIndex] - watersNearProtein[frameIndex+1]\n",
    "    # And the len() of a set is the number of items in it\n",
    "    numWatersThatLeft = len(watersThatLeft)\n",
    "    # The & operator returns items which appear in both \n",
    "    watersThatStayed = watersNearProtein[frameIndex] & watersNearProtein[frameIndex+1]\n",
    "    numWatersThatStayed = len(watersThatStayed)\n",
    "    \n",
    "    print '%i waters left the first shell this frame, and %i stayed' %(numWatersThatLeft,numWatersThatStayed)\n",
    "\n",
    "    # Store the results in a list\n",
    "    nLeftList.append(numWatersThatLeft)\n",
    "    nStayedList.append(numWatersThatStayed)"
   ]
  },
  {
   "cell_type": "markdown",
   "metadata": {
    "collapsed": true
   },
   "source": [
    "### And now we can use the PyPlot module to plot them"
   ]
  },
  {
   "cell_type": "code",
   "execution_count": null,
   "metadata": {
    "collapsed": true
   },
   "outputs": [],
   "source": [
    "plt.plot(nLeftList,label='Number of waters that left')\n",
    "plt.plot(nStayedList,label='Number of waters that stayed')\n",
    "plt.legend()\n",
    "plt.show()\n"
   ]
  },
  {
   "cell_type": "markdown",
   "metadata": {},
   "source": [
    "### There is an ATP molecule bound to this protein. Which protein residues does it contact? For how long? Write code to print out their residue name and the % of frames that they contact the ATP"
   ]
  },
  {
   "cell_type": "code",
   "execution_count": null,
   "metadata": {
    "collapsed": true
   },
   "outputs": [],
   "source": [
    "#Codecodecode"
   ]
  },
  {
   "cell_type": "markdown",
   "metadata": {},
   "source": []
  }
 ],
 "metadata": {
  "kernelspec": {
   "display_name": "Python 2",
   "language": "python",
   "name": "python2"
  },
  "language_info": {
   "codemirror_mode": {
    "name": "ipython",
    "version": 2
   },
   "file_extension": ".py",
   "mimetype": "text/x-python",
   "name": "python",
   "nbconvert_exporter": "python",
   "pygments_lexer": "ipython2",
   "version": "2.7.13"
  }
 },
 "nbformat": 4,
 "nbformat_minor": 2
}
