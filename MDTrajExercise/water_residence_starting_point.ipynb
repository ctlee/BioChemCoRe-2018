{
 "cells": [
  {
   "cell_type": "markdown",
   "metadata": {},
   "source": [
    "## Before you start this tutorial, get familiar with what an MD simulation looks like. You can look at the trajectory in this folder using the following command:\n",
    "### Note: When you put a \"!\" at the beginning of a line in a jupyter notebook, it runs as if it was a BASH command. "
   ]
  },
  {
   "cell_type": "code",
   "execution_count": 6,
   "metadata": {},
   "outputs": [
    {
     "name": "stdout",
     "output_type": "stream",
     "text": [
      "Info) VMD for MACOSXX86, version 1.9.2beta1 (September 12, 2014)\n",
      "Info) http://www.ks.uiuc.edu/Research/vmd/                         \n",
      "Info) Email questions and bug reports to vmd@ks.uiuc.edu           \n",
      "Info) Please include this reference in published work using VMD:   \n",
      "Info)    Humphrey, W., Dalke, A. and Schulten, K., `VMD - Visual   \n",
      "Info)    Molecular Dynamics', J. Molec. Graphics 1996, 14.1, 33-38.\n",
      "Info) -------------------------------------------------------------\n",
      "Info) Multithreading available, 4 CPUs detected.\n",
      "Warning) Detected a mismatch between CUDA runtime and GPU driver\n",
      "Warning) Check to make sure that GPU drivers are up to date.\n",
      "Info) No CUDA accelerator devices available.\n",
      "Info) OpenGL renderer: NVIDIA GeForce GT 330M OpenGL Engine\n",
      "Info)   Features: STENCIL MDE CVA MTX NPOT PP PS GLSL(OVF) \n",
      "Info)   Full GLSL rendering mode is available.\n",
      "Info)   Textures: 2-D (8192x8192), 3-D (2048x2048x2048), Multitexture (8)\n",
      "Info) Dynamically loaded 2 plugins in directory:\n",
      "Info) /Applications/VMD 1.9.2.app/Contents/vmd/plugins/MACOSXX86/molfile\n",
      "Info) File loading in progress, please wait.\n",
      "Info) Using plugin pdb for structure file exampleProtein.pdb\n",
      "Info) Using plugin pdb for coordinates from file exampleProtein.pdb\n",
      "Info) Determining bond structure from distance search ...\n",
      "Info) Finished with coordinate file exampleProtein.pdb.\n",
      "Info) Analyzing structure ...\n",
      "Info)    Atoms: 59882\n",
      "Info)    Bonds: 41959\n",
      "Info)    Angles: 0  Dihedrals: 0  Impropers: 0  Cross-terms: 0\n",
      "Info)    Bondtypes: 0  Angletypes: 0  Dihedraltypes: 0  Impropertypes: 0\n",
      "Info)    Residues: 18355\n",
      "Info)    Waters: 17996\n",
      "Info)    Segments: 1\n",
      "Info)    Fragments: 18001   Protein: 2   Nucleic: 0\n",
      "dcdplugin) detected standard 32-bit DCD file of native endianness\n",
      "dcdplugin) CHARMM format DCD file (also NAMD 2.1 and later)\n",
      "Info) Using plugin dcd for coordinates from file exampleTraj.dcd\n",
      "Info) Finished with coordinate file exampleTraj.dcd.\n",
      "vmd > Info) VMD for MACOSXX86, version 1.9.2beta1 (September 12, 2014)\n",
      "Info) Exiting normally.\n"
     ]
    }
   ],
   "source": [
    "! /Applications/VMD\\ 1.9.2.app/Contents/vmd/vmd_MACOSXX86 exampleProtein.pdb exampleTraj.dcd "
   ]
  },
  {
   "cell_type": "markdown",
   "metadata": {},
   "source": [
    "### Note that, in VMD, we have to specify two files -- One containing the \"topology\" of the system (in this case a PDB file), which contains (at least) a listing of what atoms are present, what elements those atoms are, and how they are bonded. After that, we provide a \"trajectory\" file, or a compressed file containing X,Y,Z information about where each atom is in each simulation snapshot.\n",
    "\n",
    "#### In addition to the elements and bonds, a PDB file contains a set of coordinates. This information goes beyond what is strictly expected in a \"topology\". If you want to view a stationary protein, a PDB file will suffice. Later you will learn about protein files like PRMTOPs that contain atoms and bonds, but no coordinates.\n",
    "\n",
    "### One fairly advanced analysis that we can perform is a \"water residence\" analysis. This asks which waters stick around the protein for a while. We know that waters play a very important role in protein function, because when proteins are put in environments other than water (ethanol, benzene, or air), they behave differently."
   ]
  },
  {
   "cell_type": "code",
   "execution_count": 1,
   "metadata": {},
   "outputs": [],
   "source": [
    "import mdtraj as md\n",
    "import numpy as np\n",
    "import matplotlib.pyplot as plt"
   ]
  },
  {
   "cell_type": "markdown",
   "metadata": {},
   "source": [
    "### We load the trajectory using a topology file (in this case a pdb) and a trajectory file (the dcd)"
   ]
  },
  {
   "cell_type": "code",
   "execution_count": 2,
   "metadata": {},
   "outputs": [],
   "source": [
    "traj = md.load('exampleTraj.dcd', top='exampleProtein.pdb')"
   ]
  },
  {
   "cell_type": "markdown",
   "metadata": {},
   "source": [
    "### And get the number of frames in our trajectory"
   ]
  },
  {
   "cell_type": "code",
   "execution_count": 3,
   "metadata": {},
   "outputs": [],
   "source": [
    "numFrames = len(traj)"
   ]
  },
  {
   "cell_type": "markdown",
   "metadata": {},
   "source": [
    "### Prepare a list to contain the atom numbers of each first shell water's oxygen in each frame"
   ]
  },
  {
   "cell_type": "code",
   "execution_count": 4,
   "metadata": {
    "collapsed": true
   },
   "outputs": [],
   "source": [
    "firstShells = []\n",
    "\n",
    "proteinSelection = traj.topology.select('protein')\n",
    "waterSelection = traj.topology.select('water and name O')"
   ]
  },
  {
   "cell_type": "markdown",
   "metadata": {},
   "source": [
    "### Use an MDTraj function to run through the trajectory and identify all the water oxygens within 2 angstroms of the protein."
   ]
  },
  {
   "cell_type": "code",
   "execution_count": 5,
   "metadata": {
    "collapsed": true
   },
   "outputs": [],
   "source": [
    "watersNearProtein = md.compute_neighbors(traj, \n",
    "                                         0.2, \n",
    "                                         proteinSelection,\n",
    "                                         haystack_indices=waterSelection)"
   ]
  },
  {
   "cell_type": "markdown",
   "metadata": {},
   "source": [
    "### For each frame that was analyzed, put the water oxygen IDs into a set."
   ]
  },
  {
   "cell_type": "code",
   "execution_count": 6,
   "metadata": {
    "collapsed": true
   },
   "outputs": [],
   "source": [
    "watersNearProtein = [set(i) for i in watersNearProtein]"
   ]
  },
  {
   "cell_type": "markdown",
   "metadata": {},
   "source": [
    "### Walk through the waters near the protein in each frame (called the \"first hydration shell\"), and see how many of them are close in other frames. Make a (numFrames x numFrames) matrix with the number of first-shell waters that different frames have in common"
   ]
  },
  {
   "cell_type": "code",
   "execution_count": 7,
   "metadata": {
    "collapsed": true
   },
   "outputs": [],
   "source": [
    "firstOverlapMat = np.zeros((numFrames, numFrames))\n",
    "for i in range(numFrames):\n",
    "    for j in range(i, numFrames):\n",
    "        overlap = len(watersNearProtein[i] & watersNearProtein[j])\n",
    "        firstOverlapMat[i,j] = overlap\n",
    "        firstOverlapMat[j,i] = overlap"
   ]
  },
  {
   "cell_type": "markdown",
   "metadata": {},
   "source": [
    "### Use PyPlot to show what the first shell overlap matrix looks like"
   ]
  },
  {
   "cell_type": "code",
   "execution_count": 10,
   "metadata": {},
   "outputs": [
    {
     "data": {
      "image/png": "[encoded data removed]",
      "text/plain": [
       "<matplotlib.figure.Figure at 0x11c8b1ad0>"
      ]
     },
     "metadata": {},
     "output_type": "display_data"
    }
   ],
   "source": [
    "plt.imshow(firstOverlapMat)\n",
    "plt.colorbar()\n",
    "plt.show()"
   ]
  },
  {
   "cell_type": "markdown",
   "metadata": {},
   "source": [
    "### What does this mean? What are the yellow points and the purple? Why is there a diagonal yellow line?"
   ]
  },
  {
   "cell_type": "markdown",
   "metadata": {},
   "source": [
    "### Prepare a numpy array to hold the frame-to-frame similarity values"
   ]
  },
  {
   "cell_type": "code",
   "execution_count": null,
   "metadata": {
    "collapsed": true
   },
   "outputs": [],
   "source": [
    "firstOverlapMat = np.zeros((numFrames, numFrames))\n",
    "nLeftList = []\n",
    "nStayedList = []"
   ]
  },
  {
   "cell_type": "markdown",
   "metadata": {},
   "source": [
    "### Now we go through each frame and compare it to the one right after it. We will use sets to do a handy task: Subtraction of two sets gives us a new set containing the items that are in one set and not another (difference). We will also use the \"&\" (intersection) operator, which returns a new set containing the items that both sets have in common. By counting how many items are in the difference and intersection, between every frame and the frame after it, we can count how many waters stay and leave each step."
   ]
  },
  {
   "cell_type": "code",
   "execution_count": null,
   "metadata": {
    "collapsed": true
   },
   "outputs": [],
   "source": [
    "for frameIndex in range(numFrames-1):\n",
    "\n",
    "    watersThatLeft = watersNearProtein[frameIndex] - watersNearProtein[frameIndex+1]\n",
    "    # And the len() of a set is the number of items in it\n",
    "    numWatersThatLeft = len(watersThatLeft)\n",
    "    # The & operator returns items which appear in both \n",
    "    watersThatStayed = watersNearProtein[frameIndex] & watersNearProtein[frameIndex+1]\n",
    "    numWatersThatStayed = len(watersThatStayed)\n",
    "    \n",
    "    print '%i waters left the first shell this frame, and %i stayed' %(numWatersThatLeft,numWatersThatStayed)\n",
    "\n",
    "    # Store the results in a list\n",
    "    nLeftList.append(numWatersThatLeft)\n",
    "    nStayedList.append(numWatersThatStayed)"
   ]
  },
  {
   "cell_type": "markdown",
   "metadata": {
    "collapsed": true
   },
   "source": [
    "### And now we can use the PyPlot module to plot them"
   ]
  },
  {
   "cell_type": "code",
   "execution_count": null,
   "metadata": {
    "collapsed": true
   },
   "outputs": [],
   "source": [
    "plt.plot(nLeftList,label='Number of waters that left')\n",
    "plt.plot(nStayedList,label='Number of waters that stayed')\n",
    "plt.legend()\n",
    "plt.show()\n"
   ]
  },
  {
   "cell_type": "markdown",
   "metadata": {},
   "source": [
    "### There is an ATP molecule bound to this protein. "
   ]
  }
 ],
 "metadata": {
  "kernelspec": {
   "display_name": "Python 2",
   "language": "python",
   "name": "python2"
  },
  "language_info": {
   "codemirror_mode": {
    "name": "ipython",
    "version": 2
   },
   "file_extension": ".py",
   "mimetype": "text/x-python",
   "name": "python",
   "nbconvert_exporter": "python",
   "pygments_lexer": "ipython2",
   "version": "2.7.13"
  }
 },
 "nbformat": 4,
 "nbformat_minor": 2
}
